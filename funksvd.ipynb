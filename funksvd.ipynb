{
 "cells": [
  {
   "cell_type": "code",
   "execution_count": null,
   "metadata": {},
   "outputs": [],
   "source": [
    "# -*- coding: utf-8 -*-\n",
    "\n",
    "import torch\n",
    "import pandas as pd\n",
    "import numpy as np\n",
    "\n",
    "dtype = torch.float\n",
    "device = torch.device('cpu')\n"
   ]
  },
  {
   "cell_type": "code",
   "execution_count": null,
   "metadata": {},
   "outputs": [],
   "source": [
    "rating = np.load('the-movies-dataset/numpy/small_ratings.npy')\n",
    "users = np.load('the-movies-dataset/numpy/users.npy')[:100]\n",
    "movies = np.load('the-movies-dataset/numpy/movies.npy')[:100]\n",
    "\n",
    "users_num, movies_num, k = len(users), len(movies), 5\n",
    "rating_len = len(rating)\n",
    "\n",
    "print(rating[:, 2].max())\n",
    "print(rating[:, 0].max())\n",
    "print(len(users)-1)\n",
    "print(rating_len)"
   ]
  },
  {
   "cell_type": "code",
   "execution_count": null,
   "metadata": {},
   "outputs": [],
   "source": [
    "# normalization\n",
    "rating[:, 2] -= 2.5\n",
    "rating[:, 2] /= 2.5\n",
    "\n",
    "# thita\n",
    "p = torch.randn(users_num, k, device=device, dtype=dtype) / 10\n",
    "q = torch.randn(movies_num, k, device=device, dtype=dtype) / 10\n",
    "\n",
    "# bias\n",
    "bu = torch.zeros(users_num)\n",
    "bi = torch.zeros(movies_num)\n",
    "mean = torch.tensor(rating[:, 2].mean())\n",
    "\n",
    "print(rating[:, 2].max())\n",
    "print(mean)"
   ]
  },
  {
   "cell_type": "code",
   "execution_count": null,
   "metadata": {},
   "outputs": [],
   "source": [
    "# r̂ ui = mean + bu + bi + qTipu\n",
    "def predict(u, i):\n",
    "    pu = p[u].view(1, p[u].size()[0])\n",
    "    qi = q[i].view(1, q[i].size()[0])\n",
    "    pq = torch.mm(pu, qi.t())[0][0]\n",
    "    return  mean + bu[u] + bi[i] + pq\n",
    "\n",
    "predict(3, 0)"
   ]
  },
  {
   "cell_type": "code",
   "execution_count": null,
   "metadata": {},
   "outputs": [],
   "source": [
    "def loss(u, i, r, rr=0.02):\n",
    "    '''\n",
    "    params\n",
    "        u: user id\n",
    "        i: movie id\n",
    "        r: rating\n",
    "        rr: regularization_rate\n",
    "    '''\n",
    "    return (r - predict(u, i)) ** 2 + rr * (\n",
    "        torch.norm(bu[u], 2) + torch.norm(bi[i], 2) + torch.norm(p[u], 2) + torch.norm(q[i],2))\n",
    "\n",
    "loss(0, 0, 3)"
   ]
  },
  {
   "cell_type": "code",
   "execution_count": null,
   "metadata": {},
   "outputs": [],
   "source": [
    "def iter_rating(rating, max_len=None):\n",
    "    for idx, i in enumerate(rating):\n",
    "        if max_len and idx >= max_len:\n",
    "            break\n",
    "        yield int(i[0]), int(i[1]), i[2]\n",
    "iter_rating(rating).__next__()"
   ]
  },
  {
   "cell_type": "code",
   "execution_count": null,
   "metadata": {},
   "outputs": [],
   "source": [
    "epoch = 100\n",
    "\n",
    "def lr(epoch):\n",
    "    if epoch > 200:\n",
    "        return 1e-6\n",
    "    if epoch > 50:\n",
    "        return 1e-4\n",
    "    return 1e-1\n",
    "\n",
    "def train(p, q, bi, bu, lr_func, rr=0.02, verbose=False):\n",
    "    \n",
    "    for ep in range(epoch):\n",
    "        np.random.shuffle(rating)\n",
    "        loss_sum = 0\n",
    "        lr = lr_func(ep)\n",
    "\n",
    "        for u, i, r in iter_rating(rating):\n",
    "            r = torch.tensor(r)\n",
    "            loss_ui = loss(u, i, torch.tensor(r), rr=rr)\n",
    "            eui = r - predict(u, i)\n",
    "\n",
    "            p[u] += lr * (eui * q[i] - rr * p[u])\n",
    "            q[i] += lr * (eui * p[u] - rr * q[i])\n",
    "\n",
    "            bu[u] += lr * (eui - rr * bu[u])\n",
    "            bi[i] += lr * (eui - rr * bi[i])\n",
    "            \n",
    "            loss_sum += loss_ui\n",
    "\n",
    "        if verbose:\n",
    "            print('epoch=%03d, loss=%.4f' % (ep, loss_sum / rating_len))\n",
    "    \n",
    "    return p, q, bi, bu\n",
    "\n",
    "p, q, bi, bu = train(p, q, bi, bu, lr, verbose=True)     "
   ]
  },
  {
   "cell_type": "code",
   "execution_count": null,
   "metadata": {},
   "outputs": [],
   "source": [
    "for u, i, r in iter_rating(rating, 20):\n",
    "    print('target: % .2f' % r, 'predict: % .2f' % float(predict(u, i)))"
   ]
  },
  {
   "cell_type": "code",
   "execution_count": null,
   "metadata": {},
   "outputs": [],
   "source": []
  }
 ],
 "metadata": {
  "kernelspec": {
   "display_name": "Python 3",
   "language": "python",
   "name": "python3"
  },
  "language_info": {
   "codemirror_mode": {
    "name": "ipython",
    "version": 3
   },
   "file_extension": ".py",
   "mimetype": "text/x-python",
   "name": "python",
   "nbconvert_exporter": "python",
   "pygments_lexer": "ipython3",
   "version": "3.7.0"
  }
 },
 "nbformat": 4,
 "nbformat_minor": 2
}
