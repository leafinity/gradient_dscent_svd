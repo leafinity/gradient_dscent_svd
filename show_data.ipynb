{
 "cells": [
  {
   "cell_type": "code",
   "execution_count": null,
   "metadata": {},
   "outputs": [],
   "source": [
    "import numpy as np"
   ]
  },
  {
   "cell_type": "markdown",
   "metadata": {},
   "source": [
    "## rating_small.csv from The Movie Dataset\n",
    "\n",
    "* col 1: user_id, from 0 - 670\n",
    "* col 2: movie_id, from 0 - 9065\n",
    "* col 3: rating, from 0 - 5"
   ]
  },
  {
   "cell_type": "code",
   "execution_count": null,
   "metadata": {},
   "outputs": [],
   "source": [
    "rating = np.load('the-movies-dataset/numpy/ratings.npy')\n",
    "rating[:10, :]"
   ]
  },
  {
   "cell_type": "markdown",
   "metadata": {},
   "source": [
    "## Id Map\n",
    "\n",
    "maping id in numpy array to actual id in CSV file\n",
    "\n",
    "    id_in_np = users.index(id_in_SCV)"
   ]
  },
  {
   "cell_type": "code",
   "execution_count": null,
   "metadata": {},
   "outputs": [],
   "source": [
    "users = np.load('the-movies-dataset/numpy/users.npy')\n",
    "movies = np.load('the-movies-dataset/numpy/movies.npy')\n",
    "\n",
    "print(users[:10])\n",
    "print(movies)\n",
    "print(len(movies))"
   ]
  },
  {
   "cell_type": "markdown",
   "metadata": {},
   "source": [
    "## Small Rating\n",
    "\n",
    "ratings whose user id and movie id are both smaller than 100"
   ]
  },
  {
   "cell_type": "code",
   "execution_count": null,
   "metadata": {},
   "outputs": [],
   "source": [
    "rating = np.load('the-movies-dataset/numpy/small_ratings.npy')\n",
    "print('max user: ', rating[:, 0].max())\n",
    "print('max movie: ', rating[:, 1].max())"
   ]
  },
  {
   "cell_type": "code",
   "execution_count": null,
   "metadata": {},
   "outputs": [],
   "source": []
  }
 ],
 "metadata": {
  "kernelspec": {
   "display_name": "Python 3",
   "language": "python",
   "name": "python3"
  },
  "language_info": {
   "codemirror_mode": {
    "name": "ipython",
    "version": 3
   },
   "file_extension": ".py",
   "mimetype": "text/x-python",
   "name": "python",
   "nbconvert_exporter": "python",
   "pygments_lexer": "ipython3",
   "version": "3.7.0"
  }
 },
 "nbformat": 4,
 "nbformat_minor": 2
}
