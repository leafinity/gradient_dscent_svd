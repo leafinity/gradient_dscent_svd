{
 "cells": [
  {
   "cell_type": "code",
   "execution_count": 2,
   "metadata": {},
   "outputs": [],
   "source": [
    "# -*- coding: utf-8 -*-\n",
    "\n",
    "import torch\n",
    "import pandas as pd\n",
    "import numpy as np\n",
    "\n",
    "dtype = torch.float\n",
    "device = torch.device('cpu')\n"
   ]
  },
  {
   "cell_type": "code",
   "execution_count": 3,
   "metadata": {},
   "outputs": [
    {
     "name": "stdout",
     "output_type": "stream",
     "text": [
      "5.0\n",
      "99.0\n",
      "99\n",
      "624\n"
     ]
    }
   ],
   "source": [
    "rating = np.load('the-movies-dataset/numpy/small_ratings.npy')\n",
    "users = np.load('the-movies-dataset/numpy/users.npy')[:100]\n",
    "movies = np.load('the-movies-dataset/numpy/movies.npy')[:100]\n",
    "\n",
    "users_num, movies_num, k = len(users), len(movies), 5\n",
    "rating_len = len(rating)\n",
    "\n",
    "print(rating[:, 2].max())\n",
    "print(rating[:, 0].max())\n",
    "print(len(users)-1)\n",
    "print(rating_len)"
   ]
  },
  {
   "cell_type": "code",
   "execution_count": 4,
   "metadata": {},
   "outputs": [
    {
     "name": "stdout",
     "output_type": "stream",
     "text": [
      "1.0\n",
      "tensor(0.4282)\n"
     ]
    }
   ],
   "source": [
    "# normalization\n",
    "rating[:, 2] -= 2.5\n",
    "rating[:, 2] /= 2.5\n",
    "\n",
    "# thita\n",
    "p = torch.randn(users_num, k, device=device, dtype=dtype) / 10\n",
    "q = torch.randn(movies_num, k, device=device, dtype=dtype) / 10\n",
    "\n",
    "# bias\n",
    "b = torch.zeros(users_num, movies_num)\n",
    "mean = torch.tensor(rating[:, 2].mean())\n",
    "\n",
    "print(rating[:, 2].max())\n",
    "print(mean)"
   ]
  },
  {
   "cell_type": "code",
   "execution_count": 5,
   "metadata": {},
   "outputs": [
    {
     "data": {
      "text/plain": [
       "tensor(0.4000)"
      ]
     },
     "execution_count": 5,
     "metadata": {},
     "output_type": "execute_result"
    }
   ],
   "source": [
    "# r̂ ui = mean + bu + bi + qTipu\n",
    "def predict(u, i):\n",
    "    pu = p[u].view(1, p[u].size()[0])\n",
    "    qi = q[i].view(1, q[i].size()[0])\n",
    "    pq = torch.mm(pu, qi.t())[0][0]\n",
    "    return  mean + b[u][i] + pq\n",
    "\n",
    "predict(3, 0)"
   ]
  },
  {
   "cell_type": "code",
   "execution_count": 6,
   "metadata": {},
   "outputs": [
    {
     "data": {
      "text/plain": [
       "tensor(6.6527)"
      ]
     },
     "execution_count": 6,
     "metadata": {},
     "output_type": "execute_result"
    }
   ],
   "source": [
    "def loss(u, i, r, rr=0.02):\n",
    "    '''\n",
    "    params\n",
    "        u: user id\n",
    "        i: movie id\n",
    "        r: rating\n",
    "        rr: regularization_rate\n",
    "    '''\n",
    "    return (r - predict(u, i)) ** 2 + rr * (\n",
    "        torch.norm(b[u][i], 2) + torch.norm(p[u], 2) + torch.norm(q[i],2))\n",
    "\n",
    "loss(0, 0, 3)"
   ]
  },
  {
   "cell_type": "code",
   "execution_count": 7,
   "metadata": {},
   "outputs": [
    {
     "data": {
      "text/plain": [
       "(0, 30, 0.0)"
      ]
     },
     "execution_count": 7,
     "metadata": {},
     "output_type": "execute_result"
    }
   ],
   "source": [
    "def iter_rating(rating, max_len=None):\n",
    "    for idx, i in enumerate(rating):\n",
    "        if max_len and idx >= max_len:\n",
    "            break\n",
    "        yield int(i[0]), int(i[1]), i[2]\n",
    "iter_rating(rating).__next__()"
   ]
  },
  {
   "cell_type": "code",
   "execution_count": 9,
   "metadata": {},
   "outputs": [
    {
     "name": "stdout",
     "output_type": "stream",
     "text": [
      "epoch=000, loss=0.1756\n",
      "epoch=001, loss=0.1411\n",
      "epoch=002, loss=0.1142\n",
      "epoch=003, loss=0.0928\n",
      "epoch=004, loss=0.0761\n",
      "epoch=005, loss=0.0629\n",
      "epoch=006, loss=0.0528\n",
      "epoch=007, loss=0.0450\n",
      "epoch=008, loss=0.0390\n",
      "epoch=009, loss=0.0345\n",
      "epoch=010, loss=0.0310\n",
      "epoch=011, loss=0.0283\n",
      "epoch=012, loss=0.0263\n",
      "epoch=013, loss=0.0246\n",
      "epoch=014, loss=0.0234\n",
      "epoch=015, loss=0.0224\n",
      "epoch=016, loss=0.0215\n",
      "epoch=017, loss=0.0209\n",
      "epoch=018, loss=0.0203\n",
      "epoch=019, loss=0.0199\n",
      "epoch=020, loss=0.0195\n",
      "epoch=021, loss=0.0191\n",
      "epoch=022, loss=0.0189\n",
      "epoch=023, loss=0.0186\n",
      "epoch=024, loss=0.0184\n",
      "epoch=025, loss=0.0182\n",
      "epoch=026, loss=0.0180\n",
      "epoch=027, loss=0.0178\n",
      "epoch=028, loss=0.0176\n",
      "epoch=029, loss=0.0175\n",
      "epoch=030, loss=0.0173\n",
      "epoch=031, loss=0.0172\n",
      "epoch=032, loss=0.0170\n",
      "epoch=033, loss=0.0169\n",
      "epoch=034, loss=0.0167\n",
      "epoch=035, loss=0.0166\n",
      "epoch=036, loss=0.0165\n",
      "epoch=037, loss=0.0164\n",
      "epoch=038, loss=0.0162\n",
      "epoch=039, loss=0.0161\n",
      "epoch=040, loss=0.0160\n",
      "epoch=041, loss=0.0159\n",
      "epoch=042, loss=0.0158\n",
      "epoch=043, loss=0.0156\n",
      "epoch=044, loss=0.0155\n",
      "epoch=045, loss=0.0154\n",
      "epoch=046, loss=0.0153\n",
      "epoch=047, loss=0.0152\n",
      "epoch=048, loss=0.0151\n",
      "epoch=049, loss=0.0150\n",
      "epoch=050, loss=0.0149\n",
      "epoch=051, loss=0.0148\n",
      "epoch=052, loss=0.0147\n",
      "epoch=053, loss=0.0146\n",
      "epoch=054, loss=0.0145\n",
      "epoch=055, loss=0.0144\n",
      "epoch=056, loss=0.0143\n",
      "epoch=057, loss=0.0142\n",
      "epoch=058, loss=0.0141\n",
      "epoch=059, loss=0.0140\n",
      "epoch=060, loss=0.0139\n",
      "epoch=061, loss=0.0138\n",
      "epoch=062, loss=0.0137\n",
      "epoch=063, loss=0.0136\n",
      "epoch=064, loss=0.0135\n",
      "epoch=065, loss=0.0134\n",
      "epoch=066, loss=0.0133\n",
      "epoch=067, loss=0.0132\n",
      "epoch=068, loss=0.0131\n",
      "epoch=069, loss=0.0131\n",
      "epoch=070, loss=0.0130\n",
      "epoch=071, loss=0.0129\n",
      "epoch=072, loss=0.0128\n",
      "epoch=073, loss=0.0127\n",
      "epoch=074, loss=0.0127\n",
      "epoch=075, loss=0.0126\n",
      "epoch=076, loss=0.0125\n",
      "epoch=077, loss=0.0124\n",
      "epoch=078, loss=0.0124\n",
      "epoch=079, loss=0.0123\n",
      "epoch=080, loss=0.0122\n",
      "epoch=081, loss=0.0121\n",
      "epoch=082, loss=0.0121\n",
      "epoch=083, loss=0.0120\n",
      "epoch=084, loss=0.0119\n",
      "epoch=085, loss=0.0118\n",
      "epoch=086, loss=0.0118\n",
      "epoch=087, loss=0.0117\n",
      "epoch=088, loss=0.0116\n",
      "epoch=089, loss=0.0116\n",
      "epoch=090, loss=0.0115\n",
      "epoch=091, loss=0.0115\n",
      "epoch=092, loss=0.0114\n",
      "epoch=093, loss=0.0113\n",
      "epoch=094, loss=0.0113\n",
      "epoch=095, loss=0.0112\n",
      "epoch=096, loss=0.0112\n",
      "epoch=097, loss=0.0111\n",
      "epoch=098, loss=0.0110\n",
      "epoch=099, loss=0.0110\n",
      "epoch=100, loss=0.0109\n",
      "epoch=101, loss=0.0109\n",
      "epoch=102, loss=0.0109\n",
      "epoch=103, loss=0.0109\n",
      "epoch=104, loss=0.0109\n",
      "epoch=105, loss=0.0109\n",
      "epoch=106, loss=0.0109\n",
      "epoch=107, loss=0.0109\n",
      "epoch=108, loss=0.0109\n",
      "epoch=109, loss=0.0108\n",
      "epoch=110, loss=0.0108\n",
      "epoch=111, loss=0.0108\n",
      "epoch=112, loss=0.0108\n",
      "epoch=113, loss=0.0108\n",
      "epoch=114, loss=0.0108\n",
      "epoch=115, loss=0.0108\n",
      "epoch=116, loss=0.0108\n",
      "epoch=117, loss=0.0108\n",
      "epoch=118, loss=0.0108\n",
      "epoch=119, loss=0.0108\n",
      "epoch=120, loss=0.0108\n",
      "epoch=121, loss=0.0108\n",
      "epoch=122, loss=0.0108\n",
      "epoch=123, loss=0.0108\n",
      "epoch=124, loss=0.0108\n",
      "epoch=125, loss=0.0108\n",
      "epoch=126, loss=0.0108\n",
      "epoch=127, loss=0.0107\n",
      "epoch=128, loss=0.0107\n",
      "epoch=129, loss=0.0107\n",
      "epoch=130, loss=0.0107\n",
      "epoch=131, loss=0.0107\n",
      "epoch=132, loss=0.0107\n",
      "epoch=133, loss=0.0107\n",
      "epoch=134, loss=0.0107\n",
      "epoch=135, loss=0.0107\n",
      "epoch=136, loss=0.0107\n",
      "epoch=137, loss=0.0107\n",
      "epoch=138, loss=0.0107\n",
      "epoch=139, loss=0.0107\n",
      "epoch=140, loss=0.0107\n",
      "epoch=141, loss=0.0107\n",
      "epoch=142, loss=0.0107\n",
      "epoch=143, loss=0.0107\n",
      "epoch=144, loss=0.0107\n",
      "epoch=145, loss=0.0107\n",
      "epoch=146, loss=0.0107\n",
      "epoch=147, loss=0.0106\n",
      "epoch=148, loss=0.0106\n",
      "epoch=149, loss=0.0106\n",
      "epoch=150, loss=0.0106\n",
      "epoch=151, loss=0.0106\n",
      "epoch=152, loss=0.0106\n",
      "epoch=153, loss=0.0106\n",
      "epoch=154, loss=0.0106\n",
      "epoch=155, loss=0.0106\n",
      "epoch=156, loss=0.0106\n",
      "epoch=157, loss=0.0106\n",
      "epoch=158, loss=0.0106\n",
      "epoch=159, loss=0.0106\n",
      "epoch=160, loss=0.0106\n",
      "epoch=161, loss=0.0106\n",
      "epoch=162, loss=0.0106\n",
      "epoch=163, loss=0.0106\n",
      "epoch=164, loss=0.0106\n",
      "epoch=165, loss=0.0106\n",
      "epoch=166, loss=0.0106\n",
      "epoch=167, loss=0.0105\n",
      "epoch=168, loss=0.0105\n",
      "epoch=169, loss=0.0105\n",
      "epoch=170, loss=0.0105\n",
      "epoch=171, loss=0.0105\n",
      "epoch=172, loss=0.0105\n",
      "epoch=173, loss=0.0105\n",
      "epoch=174, loss=0.0105\n",
      "epoch=175, loss=0.0105\n",
      "epoch=176, loss=0.0105\n",
      "epoch=177, loss=0.0105\n",
      "epoch=178, loss=0.0105\n",
      "epoch=179, loss=0.0105\n",
      "epoch=180, loss=0.0105\n",
      "epoch=181, loss=0.0105\n",
      "epoch=182, loss=0.0105\n",
      "epoch=183, loss=0.0105\n",
      "epoch=184, loss=0.0105\n",
      "epoch=185, loss=0.0105\n",
      "epoch=186, loss=0.0105\n",
      "epoch=187, loss=0.0104\n",
      "epoch=188, loss=0.0104\n",
      "epoch=189, loss=0.0104\n",
      "epoch=190, loss=0.0104\n",
      "epoch=191, loss=0.0104\n",
      "epoch=192, loss=0.0104\n",
      "epoch=193, loss=0.0104\n",
      "epoch=194, loss=0.0104\n",
      "epoch=195, loss=0.0104\n",
      "epoch=196, loss=0.0104\n",
      "epoch=197, loss=0.0104\n",
      "epoch=198, loss=0.0104\n",
      "epoch=199, loss=0.0104\n",
      "epoch=200, loss=0.0104\n",
      "epoch=201, loss=0.0104\n",
      "epoch=202, loss=0.0104\n",
      "epoch=203, loss=0.0104\n",
      "epoch=204, loss=0.0104\n",
      "epoch=205, loss=0.0104\n",
      "epoch=206, loss=0.0104\n",
      "epoch=207, loss=0.0104\n",
      "epoch=208, loss=0.0104\n",
      "epoch=209, loss=0.0104\n",
      "epoch=210, loss=0.0104\n",
      "epoch=211, loss=0.0104\n",
      "epoch=212, loss=0.0104\n",
      "epoch=213, loss=0.0104\n",
      "epoch=214, loss=0.0104\n",
      "epoch=215, loss=0.0104\n",
      "epoch=216, loss=0.0104\n",
      "epoch=217, loss=0.0104\n",
      "epoch=218, loss=0.0104\n",
      "epoch=219, loss=0.0104\n",
      "epoch=220, loss=0.0104\n",
      "epoch=221, loss=0.0104\n",
      "epoch=222, loss=0.0104\n",
      "epoch=223, loss=0.0104\n",
      "epoch=224, loss=0.0104\n",
      "epoch=225, loss=0.0104\n",
      "epoch=226, loss=0.0104\n",
      "epoch=227, loss=0.0104\n",
      "epoch=228, loss=0.0104\n",
      "epoch=229, loss=0.0104\n",
      "epoch=230, loss=0.0104\n",
      "epoch=231, loss=0.0104\n",
      "epoch=232, loss=0.0104\n",
      "epoch=233, loss=0.0104\n",
      "epoch=234, loss=0.0104\n",
      "epoch=235, loss=0.0104\n",
      "epoch=236, loss=0.0104\n",
      "epoch=237, loss=0.0104\n",
      "epoch=238, loss=0.0104\n",
      "epoch=239, loss=0.0104\n",
      "epoch=240, loss=0.0104\n",
      "epoch=241, loss=0.0104\n",
      "epoch=242, loss=0.0104\n",
      "epoch=243, loss=0.0104\n",
      "epoch=244, loss=0.0104\n",
      "epoch=245, loss=0.0104\n",
      "epoch=246, loss=0.0104\n",
      "epoch=247, loss=0.0104\n",
      "epoch=248, loss=0.0104\n",
      "epoch=249, loss=0.0104\n"
     ]
    }
   ],
   "source": [
    "epoch = 250\n",
    "\n",
    "def lr(epoch):\n",
    "    if epoch > 200:\n",
    "        return 1e-4\n",
    "    if epoch > 100:\n",
    "        return 1e-2\n",
    "    return 1e-1\n",
    "\n",
    "def train(p, q, b, lr_func, rr=0.02, verbose=False):\n",
    "    \n",
    "    for ep in range(epoch):\n",
    "        np.random.shuffle(rating)\n",
    "        loss_sum = 0\n",
    "        lr = lr_func(ep)\n",
    "\n",
    "        for u, i, r in iter_rating(rating):\n",
    "            r = torch.tensor(r)\n",
    "            loss_ui = loss(u, i, torch.tensor(r), rr=rr)\n",
    "            eui = r - predict(u, i)\n",
    "\n",
    "            p[u] += lr * (eui * q[i] - rr * p[u])\n",
    "            q[i] += lr * (eui * p[u] - rr * q[i])\n",
    "\n",
    "            b[u][i] += lr * (eui - rr * b[u][i])\n",
    "            \n",
    "            loss_sum += loss_ui\n",
    "\n",
    "        if verbose:\n",
    "            if (epoch + 1) % 10 == 0:\n",
    "                print('epoch=%03d, loss=%.4f' % (ep, loss_sum / rating_len))\n",
    "    \n",
    "    return p, q, b\n",
    "\n",
    "p, q, b = train(p, q, b, lr, verbose=True)     "
   ]
  },
  {
   "cell_type": "code",
   "execution_count": 10,
   "metadata": {},
   "outputs": [
    {
     "name": "stdout",
     "output_type": "stream",
     "text": [
      "target:  0.40 predict:  0.40\n",
      "target:  0.20 predict:  0.21\n",
      "target:  0.40 predict:  0.40\n",
      "target:  1.00 predict:  0.98\n",
      "target:  0.60 predict:  0.60\n",
      "target:  0.00 predict:  0.01\n",
      "target:  0.20 predict:  0.20\n",
      "target:  0.60 predict:  0.60\n",
      "target:  0.20 predict:  0.20\n",
      "target:  0.20 predict:  0.20\n",
      "target:  0.60 predict:  0.59\n",
      "target:  0.60 predict:  0.60\n",
      "target:  0.20 predict:  0.21\n",
      "target:  0.00 predict:  0.01\n",
      "target:  0.60 predict:  0.60\n",
      "target:  1.00 predict:  0.99\n",
      "target:  0.60 predict:  0.59\n",
      "target:  0.00 predict:  0.01\n",
      "target:  0.40 predict:  0.40\n",
      "target:  0.20 predict:  0.21\n"
     ]
    }
   ],
   "source": [
    "for u, i, r in iter_rating(rating, 20):\n",
    "    print('target: % .2f' % r, 'predict: % .2f' % float(predict(u, i)))"
   ]
  },
  {
   "cell_type": "code",
   "execution_count": 11,
   "metadata": {},
   "outputs": [],
   "source": [
    "# predict user\n",
    "user_id = 20\n",
    "movie_rates = []\n",
    "movie_predict_rates = []\n",
    "\n",
    "for u, i, r in iter_rating(rating):\n",
    "    if u == user_id:\n",
    "        movie_rates.append((i, r))\n",
    "\n",
    "for m in range(movies_num):\n",
    "    movie_predict_rates.append((m, float(predict(user_id, m))))\n",
    "    \n",
    "movie_rates.sort(key=lambda x: x[1], reverse=True)\n",
    "movie_predict_rates.sort(key=lambda x: x[1], reverse=True)"
   ]
  },
  {
   "cell_type": "code",
   "execution_count": 12,
   "metadata": {},
   "outputs": [
    {
     "name": "stderr",
     "output_type": "stream",
     "text": [
      "/usr/local/lib/python3.7/site-packages/IPython/core/interactiveshell.py:3018: DtypeWarning: Columns (10) have mixed types. Specify dtype option on import or set low_memory=False.\n",
      "  interactivity=interactivity, compiler=compiler, result=result)\n"
     ]
    }
   ],
   "source": [
    "import json\n",
    "movie_data = []\n",
    "df = pd.read_csv('the-movies-dataset/movies_metadata.csv')\n",
    "\n",
    "for index, row in df.iloc[:, [3, 8]].iterrows():\n",
    "    movie_data += [{'title': row['original_title'], 'genres': [x['name'] for x in json.loads(row['genres'].replace('\\'', '\"'))]}]\n",
    "# movie_data\n"
   ]
  },
  {
   "cell_type": "code",
   "execution_count": 41,
   "metadata": {},
   "outputs": [
    {
     "name": "stdout",
     "output_type": "stream",
     "text": [
      "User  21\n",
      "from rating, he/she likes:\n",
      "movie_id           rating               movie_title                                movie_genres\n",
      "      33              4.0                      Babe    ['Fantasy', 'Drama', 'Comedy', 'Family']\n",
      "      31              4.0            Twelve Monkeys  ['Science Fiction', 'Thriller', 'Mystery']\n",
      "      46              4.0                     Se7en            ['Crime', 'Mystery', 'Thriller']\n",
      "\n",
      "from rating, he/she might like:\n",
      "movie_id   rating_predict               movie_title                                movie_genres\n",
      "      29             4.47                 摇啊摇，摇到外婆桥                          ['Drama', 'Crime']\n",
      "      72             4.32            Les misérables                        ['Drama', 'History']\n",
      "      49             4.11        The Usual Suspects              ['Drama', 'Crime', 'Thriller']\n",
      "      39             4.10  Cry, the Beloved Country                                   ['Drama']\n",
      "      15             4.08                    Casino                          ['Drama', 'Crime']\n"
     ]
    }
   ],
   "source": [
    "print('User ', users[user_id])\n",
    "print('from rating, he/she likes:')\n",
    "print('%s %16s %25s %43s' % ('movie_id', 'rating', 'movie_title', 'movie_genres'))\n",
    "for m, r in movie_rates:\n",
    "    if r > 0.5:\n",
    "        r = r * 2.5 + 2.5\n",
    "        mid = movies[m]-1\n",
    "        print('%8s %16s %25s %43s' % (mid, r, movie_data[mid]['title'], movie_data[mid]['genres']))\n",
    "\n",
    "print('')\n",
    "print('from rating, he/she might like:')\n",
    "print('%s %16s %25s %43s' % ('movie_id', 'rating_predict', 'movie_title', 'movie_genres'))\n",
    "for m, r in movie_predict_rates[:5]:\n",
    "    mid = movies[m]-1\n",
    "    r = r * 2.5 + 2.5\n",
    "    print('%8s %16s %25s %43s' % (mid, '%.2f' % r, movie_data[mid]['title'], movie_data[mid]['genres']))"
   ]
  },
  {
   "cell_type": "code",
   "execution_count": 36,
   "metadata": {},
   "outputs": [
    {
     "data": {
      "text/plain": [
       "3.0"
      ]
     },
     "execution_count": 36,
     "metadata": {},
     "output_type": "execute_result"
    }
   ],
   "source": [
    "0.2 * 2.5 + 2.5"
   ]
  },
  {
   "cell_type": "code",
   "execution_count": null,
   "metadata": {},
   "outputs": [],
   "source": []
  }
 ],
 "metadata": {
  "kernelspec": {
   "display_name": "Python 3",
   "language": "python",
   "name": "python3"
  },
  "language_info": {
   "codemirror_mode": {
    "name": "ipython",
    "version": 3
   },
   "file_extension": ".py",
   "mimetype": "text/x-python",
   "name": "python",
   "nbconvert_exporter": "python",
   "pygments_lexer": "ipython3",
   "version": "3.7.0"
  }
 },
 "nbformat": 4,
 "nbformat_minor": 2
}
