{
 "cells": [
  {
   "cell_type": "code",
   "execution_count": 123,
   "metadata": {},
   "outputs": [],
   "source": [
    "# -*- coding: utf-8 -*-\n",
    "\n",
    "import torch\n",
    "import pandas as pd\n",
    "import numpy as np\n",
    "\n",
    "dtype = torch.float\n",
    "device = torch.device('cpu')\n"
   ]
  },
  {
   "cell_type": "code",
   "execution_count": 124,
   "metadata": {},
   "outputs": [
    {
     "name": "stdout",
     "output_type": "stream",
     "text": [
      "5.0\n",
      "99.0\n",
      "users: 100\n",
      "movies: 100\n",
      "ratings: 624\n"
     ]
    }
   ],
   "source": [
    "rating = np.load('the-movies-dataset/numpy/small_ratings.npy')\n",
    "users = np.load('the-movies-dataset/numpy/users.npy')[:100]\n",
    "movies = np.load('the-movies-dataset/numpy/movies.npy')[:100]\n",
    "\n",
    "users_num, movies_num, k = len(users), len(movies), 10\n",
    "rating_len = len(rating)\n",
    "\n",
    "print(rating[:, 2].max())\n",
    "print(rating[:, 0].max())\n",
    "print('users:', len(users))\n",
    "print('movies:', len(movies))\n",
    "print('ratings:', rating_len)"
   ]
  },
  {
   "cell_type": "code",
   "execution_count": 125,
   "metadata": {},
   "outputs": [
    {
     "name": "stdout",
     "output_type": "stream",
     "text": [
      "1.0\n",
      "tensor(0.4282)\n"
     ]
    }
   ],
   "source": [
    "# normalization\n",
    "rating[:, 2] -= 2.5\n",
    "rating[:, 2] /= 2.5\n",
    "\n",
    "# thita\n",
    "p = torch.randn(users_num, k, device=device, dtype=dtype) / 10\n",
    "q = torch.randn(movies_num, k, device=device, dtype=dtype) / 10\n",
    "y = torch.randn(movies_num, k, device=device, dtype=dtype) / 10\n",
    "w = torch.randn(movies_num, movies_num, device=device, dtype=dtype) / 10\n",
    "c = torch.randn(movies_num, movies_num, device=device, dtype=dtype) / 10\n",
    "\n",
    "# bias\n",
    "bu = torch.zeros(users_num)\n",
    "bi = torch.zeros(movies_num)\n",
    "mean = torch.tensor(rating[:, 2].mean())\n",
    "\n",
    "print(rating[:, 2].max())\n",
    "print(mean)"
   ]
  },
  {
   "cell_type": "markdown",
   "metadata": {},
   "source": [
    "# Backup Thita"
   ]
  },
  {
   "cell_type": "code",
   "execution_count": 161,
   "metadata": {},
   "outputs": [],
   "source": [
    "# thita\n",
    "p_b = p.clone()\n",
    "q_b = q.clone()\n",
    "y_b = y.clone()\n",
    "w_b = w.clone()\n",
    "c_b = c.clone()\n",
    "\n",
    "# bias\n",
    "bu_b = bu.clone()\n",
    "bi_b = bi.clone()"
   ]
  },
  {
   "cell_type": "markdown",
   "metadata": {},
   "source": [
    "# Recover Thita"
   ]
  },
  {
   "cell_type": "code",
   "execution_count": 119,
   "metadata": {},
   "outputs": [],
   "source": [
    "# thita\n",
    "p = p_b\n",
    "q = q_b\n",
    "y = y_b\n",
    "w = w_b\n",
    "c = c_b\n",
    "\n",
    "# bias\n",
    "bu = bu_b\n",
    "bi = bi_b"
   ]
  },
  {
   "cell_type": "markdown",
   "metadata": {},
   "source": [
    "# Start Training"
   ]
  },
  {
   "cell_type": "code",
   "execution_count": 131,
   "metadata": {},
   "outputs": [
    {
     "data": {
      "text/plain": [
       "(0, 30, 0.0)"
      ]
     },
     "execution_count": 131,
     "metadata": {},
     "output_type": "execute_result"
    }
   ],
   "source": [
    "def iter_rating(rating, max_len=None):\n",
    "    for idx, i in enumerate(rating):\n",
    "        if max_len and idx >= max_len:\n",
    "            break\n",
    "        yield int(i[0]), int(i[1]), i[2]\n",
    "iter_rating(rating).__next__()"
   ]
  },
  {
   "cell_type": "code",
   "execution_count": 132,
   "metadata": {},
   "outputs": [
    {
     "data": {
      "text/plain": [
       "tensor([[0., 0., 0.,  ..., 0., 0., 0.],\n",
       "        [0., 0., 0.,  ..., 0., 0., 0.],\n",
       "        [0., 0., 0.,  ..., 0., 0., 0.],\n",
       "        ...,\n",
       "        [0., 0., 0.,  ..., 0., 0., 0.],\n",
       "        [1., 1., 0.,  ..., 1., 0., 0.],\n",
       "        [1., 0., 1.,  ..., 0., 0., 0.]])"
      ]
     },
     "execution_count": 132,
     "metadata": {},
     "output_type": "execute_result"
    }
   ],
   "source": [
    "# generate N (implicit feedback)\n",
    "N = torch.zeros(users_num, movies_num, device=device, dtype=dtype)\n",
    "R = torch.zeros(users_num, movies_num, device=device, dtype=dtype)\n",
    "for u, i, r in iter_rating(rating):\n",
    "    N[u][i] = 1\n",
    "    R[u][i] = r\n",
    "\n",
    "number_of_nu = []\n",
    "for u in range(users_num):\n",
    "    number_of_nu.append(torch.nonzero(N[u]).size(0))\n",
    "N"
   ]
  },
  {
   "cell_type": "code",
   "execution_count": 133,
   "metadata": {},
   "outputs": [
    {
     "data": {
      "text/plain": [
       "tensor(1.1011)"
      ]
     },
     "execution_count": 133,
     "metadata": {},
     "output_type": "execute_result"
    }
   ],
   "source": [
    "def predict(u, i):\n",
    "    ''' predict user u to item i's rating\n",
    "    \n",
    "    r̂ ui = mean + bu + bi + qTi (pu + sum(yi)) + sum_k(w) + sum_k(c)\n",
    "    \n",
    "    params\n",
    "        u: user id\n",
    "        i: movie id\n",
    "    \n",
    "    '''\n",
    "    prediction = mean + bu[u] + bi[i]\n",
    "    \n",
    "    pu = p[u].view(1, p[u].size()[0])\n",
    "    qi = q[i].view(1, q[i].size()[0])\n",
    "    prediction += torch.mm(pu, qi.t())[0][0]\n",
    "    \n",
    "    sum_y = torch.zeros(k)\n",
    "    sum_w = 0\n",
    "    sum_c = 0\n",
    "    for j in range(movies_num):\n",
    "        if N[u][j] == 0: \n",
    "            # user didn't rate the movie j\n",
    "            sum_y += y[j]\n",
    "            sum_c += c[i][j]\n",
    "        else:\n",
    "            sum_w += w[i][j] * (R[u][j] - bu[u] - bi[j])\n",
    "                \n",
    "    sum_y /= np.sqrt(number_of_nu[u])  \n",
    "    sum_y = sum_y.view(1, sum_y.size()[0])\n",
    "    prediction += torch.mm(pu, sum_y.t())[0][0]\n",
    "    \n",
    "    prediction += sum_w / np.sqrt((movies_num - number_of_nu[u]))\n",
    "    prediction+= sum_c / np.sqrt(number_of_nu[u])\n",
    "    \n",
    "    return prediction\n",
    "\n",
    "predict(3, 0)"
   ]
  },
  {
   "cell_type": "code",
   "execution_count": 134,
   "metadata": {},
   "outputs": [
    {
     "data": {
      "text/plain": [
       "tensor(3.1855)"
      ]
     },
     "execution_count": 134,
     "metadata": {},
     "output_type": "execute_result"
    }
   ],
   "source": [
    "def loss(u, i, r, rr=0.002):\n",
    "    ''' Loss fuction\n",
    "\n",
    "    rui - predicted rui + L2 Loss\n",
    "    \n",
    "    params\n",
    "        u: user id\n",
    "        i: movie id\n",
    "        r: rating\n",
    "        rr: regularization_rate   \n",
    "        \n",
    "    '''\n",
    "    sum_y = 0\n",
    "    sum_w = 0\n",
    "    sum_c = 0\n",
    "    \n",
    "    for j in range(movies_num):\n",
    "        if N[u][j] == 0: \n",
    "            # user didn't rate the movie j\n",
    "            sum_y += torch.norm(y[j],2)\n",
    "            sum_c += torch.norm(c[i][j],2)\n",
    "        else:\n",
    "            sum_w += torch.norm(w[i][j],2)\n",
    "\n",
    "    return (r - predict(u, i)) ** 2 + rr * (\n",
    "        torch.norm(bu[u], 2) + torch.norm(bi[i], 2) +\n",
    "        torch.norm(q[i], 2) + torch.norm(p[u],2) + sum_y + sum_w + sum_c\n",
    "    )\n",
    "\n",
    "loss(0, 0, 3)"
   ]
  },
  {
   "cell_type": "code",
   "execution_count": 162,
   "metadata": {},
   "outputs": [
    {
     "name": "stdout",
     "output_type": "stream",
     "text": [
      "epoch =   1, loss = 5.7796\n",
      "epoch =   2, loss = 5.7789\n",
      "epoch =   3, loss = 5.7779\n",
      "epoch =   4, loss = 5.7784\n",
      "epoch =   5, loss = 5.7774\n",
      "epoch =   6, loss = 5.7777\n",
      "epoch =   7, loss = 5.7771\n",
      "epoch =   8, loss = 5.7769\n",
      "epoch =   9, loss = 5.7763\n",
      "epoch =  10, loss = 5.7765\n"
     ]
    }
   ],
   "source": [
    "epoch = 10\n",
    "\n",
    "def lr(epoch):\n",
    "    if epoch > 200:\n",
    "        return 1e-4\n",
    "    if epoch > 100:\n",
    "        return 1e-3\n",
    "    return 5e-3\n",
    "\n",
    "def train(p, q, bi, bu, lr_func, rr=0.2, verbose=False):\n",
    "    \n",
    "    for ep in range(epoch):\n",
    "        np.random.shuffle(rating)\n",
    "        loss_sum = 0\n",
    "        lr = lr_func(ep)\n",
    "\n",
    "        for u, i, r in iter_rating(rating):\n",
    "            r = torch.tensor(r)\n",
    "            loss_ui = loss(u, i, torch.tensor(r), rr=rr)\n",
    "            eui = r - predict(u, i)\n",
    "#             print(loss_ui, eui)\n",
    "\n",
    "            sum_y = torch.zeros(k)\n",
    "            for j in range(movies_num):\n",
    "                if N[u][j] == 0: \n",
    "                    # user didn't rate the movie j\n",
    "                    sum_y += y[j]\n",
    "                    c[i][j] += lr * (eui / np.sqrt(number_of_nu[u]) - rr * c[i][j])\n",
    "                else:\n",
    "                    w[i][j] += lr * (eui * (R[u][j] - bu[u] -bi[j]) / np.sqrt(movies_num - number_of_nu[u]) - rr * w[i][j])\n",
    "\n",
    "\n",
    "            q[i] += lr * (eui * (p[u] + sum_y) - rr * q[i]) # TODO\n",
    "            p[u] += lr * (eui * q[i] - rr * p[u])\n",
    "            \n",
    "\n",
    "            bu[u] += lr * (eui - rr * bu[u])\n",
    "            bi[i] += lr * (eui - rr * bi[i])\n",
    "            \n",
    "            loss_sum += loss_ui\n",
    "\n",
    "        if verbose:\n",
    "            print('epoch = %3d, loss = %.4f' % (ep + 1, loss_sum / rating_len))\n",
    "    \n",
    "    return p, q, bi, bu\n",
    "\n",
    "p, q, bi, bu = train(p, q, bi, bu, lr, verbose=True)"
   ]
  },
  {
   "cell_type": "code",
   "execution_count": 163,
   "metadata": {},
   "outputs": [
    {
     "name": "stdout",
     "output_type": "stream",
     "text": [
      "target:  0.40 predict:  0.42\n",
      "target:  0.80 predict:  0.57\n",
      "target: -0.60 predict: -0.43\n",
      "target:  0.60 predict:  0.60\n",
      "target:  0.20 predict:  0.26\n",
      "target: -0.60 predict: -0.16\n",
      "target:  0.60 predict:  0.56\n",
      "target:  0.60 predict:  0.63\n",
      "target:  0.20 predict:  0.30\n",
      "target:  0.40 predict:  0.46\n",
      "target:  1.00 predict:  0.80\n",
      "target:  0.60 predict:  0.66\n",
      "target:  1.00 predict:  0.79\n",
      "target:  0.60 predict:  0.57\n",
      "target:  0.60 predict:  0.62\n",
      "target:  0.00 predict:  0.07\n",
      "target:  0.20 predict:  0.31\n",
      "target:  0.60 predict:  0.40\n",
      "target: -0.20 predict: -0.05\n",
      "target: -0.80 predict: -0.59\n"
     ]
    }
   ],
   "source": [
    "for u, i, r in iter_rating(rating, 20):\n",
    "    print('target: % .2f' % r, 'predict: % .2f' % float(predict(u, i)))"
   ]
  },
  {
   "cell_type": "code",
   "execution_count": 164,
   "metadata": {},
   "outputs": [],
   "source": [
    "# predict user\n",
    "user_id = 20\n",
    "movie_rates = []\n",
    "movie_predict_rates = []\n",
    "\n",
    "for u, i, r in iter_rating(rating):\n",
    "    if u == user_id:\n",
    "        movie_rates.append((i, r))\n",
    "\n",
    "for m in range(movies_num):\n",
    "    movie_predict_rates.append((m, float(predict(user_id, m))))\n",
    "    \n",
    "movie_rates.sort(key=lambda x: x[1], reverse=True)\n",
    "movie_predict_rates.sort(key=lambda x: x[1], reverse=True)"
   ]
  },
  {
   "cell_type": "code",
   "execution_count": 165,
   "metadata": {},
   "outputs": [],
   "source": [
    "import json\n",
    "movie_data = []\n",
    "df = pd.read_csv('the-movies-dataset/movies_metadata.csv')\n",
    "\n",
    "for index, row in df.iloc[:, [3, 8]].iterrows():\n",
    "    movie_data += [{'title': row['original_title'], 'genres': [x['name'] for x in json.loads(row['genres'].replace('\\'', '\"'))]}]\n",
    "# movie_data\n"
   ]
  },
  {
   "cell_type": "code",
   "execution_count": 166,
   "metadata": {},
   "outputs": [
    {
     "name": "stdout",
     "output_type": "stream",
     "text": [
      "User  21\n",
      "from rating, he/she likes:\n",
      "movie_id           rating               movie_title                                movie_genres\n",
      "      33              4.0                      Babe    ['Fantasy', 'Drama', 'Comedy', 'Family']\n",
      "      31              4.0            Twelve Monkeys  ['Science Fiction', 'Thriller', 'Mystery']\n",
      "      46              4.0                     Se7en            ['Crime', 'Mystery', 'Thriller']\n",
      "\n",
      "from rating, he/she might like:\n",
      "movie_id   rating_predict               movie_title                                movie_genres\n",
      "      29             6.12                 摇啊摇，摇到外婆桥                          ['Drama', 'Crime']\n",
      "      81             4.51                   Antonia                         ['Drama', 'Comedy']\n",
      "      26             4.50              Now and Then               ['Comedy', 'Drama', 'Family']\n",
      "      39             4.31  Cry, the Beloved Country                                   ['Drama']\n",
      "      96             4.25                  Shopping ['Action', 'Adventure', 'Drama', 'Science Fiction', 'Thriller']\n"
     ]
    }
   ],
   "source": [
    "print('User ', users[user_id])\n",
    "print('from rating, he/she likes:')\n",
    "print('%s %16s %25s %43s' % ('movie_id', 'rating', 'movie_title', 'movie_genres'))\n",
    "for m, r in movie_rates:\n",
    "    if r > 0.5:\n",
    "        r = r * 2.5 + 2.5\n",
    "        mid = movies[m]-1\n",
    "        print('%8s %16s %25s %43s' % (mid, r, movie_data[mid]['title'], movie_data[mid]['genres']))\n",
    "\n",
    "print('')\n",
    "print('from rating, he/she might like:')\n",
    "print('%s %16s %25s %43s' % ('movie_id', 'rating_predict', 'movie_title', 'movie_genres'))\n",
    "for m, r in movie_predict_rates[:5]:\n",
    "    mid = movies[m]-1\n",
    "    r = r * 2.5 + 2.5\n",
    "    print('%8s %16s %25s %43s' % (mid, '%.2f' % r, movie_data[mid]['title'], movie_data[mid]['genres']))"
   ]
  },
  {
   "cell_type": "code",
   "execution_count": null,
   "metadata": {},
   "outputs": [],
   "source": []
  }
 ],
 "metadata": {
  "kernelspec": {
   "display_name": "Python 3",
   "language": "python",
   "name": "python3"
  },
  "language_info": {
   "codemirror_mode": {
    "name": "ipython",
    "version": 3
   },
   "file_extension": ".py",
   "mimetype": "text/x-python",
   "name": "python",
   "nbconvert_exporter": "python",
   "pygments_lexer": "ipython3",
   "version": "3.7.2"
  }
 },
 "nbformat": 4,
 "nbformat_minor": 2
}
