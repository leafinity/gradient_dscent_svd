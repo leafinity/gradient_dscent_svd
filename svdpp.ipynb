{
 "cells": [
  {
   "cell_type": "code",
   "execution_count": 1,
   "metadata": {},
   "outputs": [],
   "source": [
    "# -*- coding: utf-8 -*-\n",
    "\n",
    "import torch\n",
    "import pandas as pd\n",
    "import numpy as np\n",
    "\n",
    "dtype = torch.float\n",
    "device = torch.device('cpu')\n"
   ]
  },
  {
   "cell_type": "code",
   "execution_count": 2,
   "metadata": {},
   "outputs": [
    {
     "name": "stdout",
     "output_type": "stream",
     "text": [
      "5.0\n",
      "99.0\n",
      "users: 100\n",
      "movies: 100\n",
      "ratings: 624\n"
     ]
    }
   ],
   "source": [
    "rating = np.load('the-movies-dataset/numpy/small_ratings.npy')\n",
    "users = np.load('the-movies-dataset/numpy/users.npy')[:100]\n",
    "movies = np.load('the-movies-dataset/numpy/movies.npy')[:100]\n",
    "\n",
    "users_num, movies_num, k = len(users), len(movies), 10\n",
    "rating_len = len(rating)\n",
    "\n",
    "print(rating[:, 2].max())\n",
    "print(rating[:, 0].max())\n",
    "print('users:', len(users))\n",
    "print('movies:', len(movies))\n",
    "print('ratings:', rating_len)"
   ]
  },
  {
   "cell_type": "code",
   "execution_count": 3,
   "metadata": {},
   "outputs": [
    {
     "name": "stdout",
     "output_type": "stream",
     "text": [
      "1.0\n",
      "tensor(0.4282)\n"
     ]
    }
   ],
   "source": [
    "# normalization\n",
    "rating[:, 2] -= 2.5\n",
    "rating[:, 2] /= 2.5\n",
    "\n",
    "# thita\n",
    "p = torch.randn(users_num, k, device=device, dtype=dtype) / 10\n",
    "q = torch.randn(movies_num, k, device=device, dtype=dtype) / 10\n",
    "y = torch.randn(movies_num, k, device=device, dtype=dtype) / 10\n",
    "w = torch.randn(movies_num, movies_num, device=device, dtype=dtype) / 10\n",
    "c = torch.randn(movies_num, movies_num, device=device, dtype=dtype) / 10\n",
    "\n",
    "# bias\n",
    "bu = torch.zeros(users_num)\n",
    "bi = torch.zeros(movies_num)\n",
    "mean = torch.tensor(rating[:, 2].mean())\n",
    "\n",
    "print(rating[:, 2].max())\n",
    "print(mean)"
   ]
  },
  {
   "cell_type": "markdown",
   "metadata": {},
   "source": [
    "# Backup Thita"
   ]
  },
  {
   "cell_type": "code",
   "execution_count": 5,
   "metadata": {},
   "outputs": [],
   "source": [
    "# thita\n",
    "p_b = p.clone()\n",
    "q_b = q.clone()\n",
    "y_b = y.clone()\n",
    "w_b = w.clone()\n",
    "c_b = c.clone()\n",
    "\n",
    "# bias\n",
    "bu_b = bu.clone()\n",
    "bi_b = bi.clone()"
   ]
  },
  {
   "cell_type": "markdown",
   "metadata": {},
   "source": [
    "# Recover Thita"
   ]
  },
  {
   "cell_type": "code",
   "execution_count": 119,
   "metadata": {},
   "outputs": [],
   "source": [
    "# thita\n",
    "p = p_b\n",
    "q = q_b\n",
    "y = y_b\n",
    "w = w_b\n",
    "c = c_b\n",
    "\n",
    "# bias\n",
    "bu = bu_b\n",
    "bi = bi_b"
   ]
  },
  {
   "cell_type": "markdown",
   "metadata": {},
   "source": [
    "# Start Training"
   ]
  },
  {
   "cell_type": "code",
   "execution_count": 6,
   "metadata": {},
   "outputs": [
    {
     "data": {
      "text/plain": [
       "(0, 30, 0.0)"
      ]
     },
     "execution_count": 6,
     "metadata": {},
     "output_type": "execute_result"
    }
   ],
   "source": [
    "def iter_rating(rating, max_len=None):\n",
    "    for idx, i in enumerate(rating):\n",
    "        if max_len and idx >= max_len:\n",
    "            break\n",
    "        yield int(i[0]), int(i[1]), i[2]\n",
    "iter_rating(rating).__next__()"
   ]
  },
  {
   "cell_type": "code",
   "execution_count": 7,
   "metadata": {},
   "outputs": [
    {
     "data": {
      "text/plain": [
       "tensor([[0., 0., 0.,  ..., 0., 0., 0.],\n",
       "        [0., 0., 0.,  ..., 0., 0., 0.],\n",
       "        [0., 0., 0.,  ..., 0., 0., 0.],\n",
       "        ...,\n",
       "        [0., 0., 0.,  ..., 0., 0., 0.],\n",
       "        [1., 1., 0.,  ..., 1., 0., 0.],\n",
       "        [1., 0., 1.,  ..., 0., 0., 0.]])"
      ]
     },
     "execution_count": 7,
     "metadata": {},
     "output_type": "execute_result"
    }
   ],
   "source": [
    "# generate N (implicit feedback)\n",
    "N = torch.zeros(users_num, movies_num, device=device, dtype=dtype)\n",
    "R = torch.zeros(users_num, movies_num, device=device, dtype=dtype)\n",
    "for u, i, r in iter_rating(rating):\n",
    "    N[u][i] = 1\n",
    "    R[u][i] = r\n",
    "\n",
    "number_of_nu = []\n",
    "for u in range(users_num):\n",
    "    number_of_nu.append(torch.nonzero(N[u]).size(0))\n",
    "N"
   ]
  },
  {
   "cell_type": "code",
   "execution_count": 8,
   "metadata": {},
   "outputs": [
    {
     "data": {
      "text/plain": [
       "tensor(0.2864)"
      ]
     },
     "execution_count": 8,
     "metadata": {},
     "output_type": "execute_result"
    }
   ],
   "source": [
    "def predict(u, i):\n",
    "    ''' predict user u to item i's rating\n",
    "    \n",
    "    r̂ ui = mean + bu + bi + qTi (pu + sum(yi)) + sum_k(w) + sum_k(c)\n",
    "    \n",
    "    params\n",
    "        u: user id\n",
    "        i: movie id\n",
    "    \n",
    "    '''\n",
    "    prediction = mean + bu[u] + bi[i]\n",
    "    \n",
    "    pu = p[u].view(1, p[u].size()[0])\n",
    "    qi = q[i].view(1, q[i].size()[0])\n",
    "    prediction += torch.mm(pu, qi.t())[0][0]\n",
    "    \n",
    "    sum_y = torch.zeros(k)\n",
    "    sum_w = 0\n",
    "    sum_c = 0\n",
    "    for j in range(movies_num):\n",
    "        if N[u][j] == 0: \n",
    "            # user didn't rate the movie j\n",
    "            sum_y += y[j]\n",
    "            sum_c += c[i][j]\n",
    "        else:\n",
    "            sum_w += w[i][j] * (R[u][j] - bu[u] - bi[j])\n",
    "                \n",
    "    sum_y /= np.sqrt(number_of_nu[u])  \n",
    "    sum_y = sum_y.view(1, sum_y.size()[0])\n",
    "    prediction += torch.mm(pu, sum_y.t())[0][0]\n",
    "    \n",
    "    prediction += sum_w / np.sqrt((movies_num - number_of_nu[u]))\n",
    "    prediction+= sum_c / np.sqrt(number_of_nu[u])\n",
    "    \n",
    "    return prediction\n",
    "\n",
    "predict(3, 0)"
   ]
  },
  {
   "cell_type": "code",
   "execution_count": 9,
   "metadata": {},
   "outputs": [
    {
     "data": {
      "text/plain": [
       "tensor(4.3912)"
      ]
     },
     "execution_count": 9,
     "metadata": {},
     "output_type": "execute_result"
    }
   ],
   "source": [
    "def loss(u, i, r, rr=0.002):\n",
    "    ''' Loss fuction\n",
    "\n",
    "    rui - predicted rui + L2 Loss\n",
    "    \n",
    "    params\n",
    "        u: user id\n",
    "        i: movie id\n",
    "        r: rating\n",
    "        rr: regularization_rate   \n",
    "        \n",
    "    '''\n",
    "    sum_y = 0\n",
    "    sum_w = 0\n",
    "    sum_c = 0\n",
    "    \n",
    "    for j in range(movies_num):\n",
    "        if N[u][j] == 0: \n",
    "            # user didn't rate the movie j\n",
    "            sum_y += torch.norm(y[j],2)\n",
    "            sum_c += torch.norm(c[i][j],2)\n",
    "        else:\n",
    "            sum_w += torch.norm(w[i][j],2)\n",
    "\n",
    "    return (r - predict(u, i)) ** 2 + rr * (\n",
    "        torch.norm(bu[u], 2) + torch.norm(bi[i], 2) +\n",
    "        torch.norm(q[i], 2) + torch.norm(p[u],2) + sum_y + sum_w + sum_c\n",
    "    )\n",
    "\n",
    "loss(0, 0, 3)"
   ]
  },
  {
   "cell_type": "code",
   "execution_count": 11,
   "metadata": {},
   "outputs": [
    {
     "name": "stdout",
     "output_type": "stream",
     "text": [
      "epoch =   1, loss = 7.2041\n",
      "epoch =   2, loss = 7.1531\n",
      "epoch =   3, loss = 7.1077\n",
      "epoch =   4, loss = 7.0651\n",
      "epoch =   5, loss = 7.0296\n",
      "epoch =   6, loss = 6.9913\n",
      "epoch =   7, loss = 6.9560\n",
      "epoch =   8, loss = 6.9258\n",
      "epoch =   9, loss = 6.8931\n",
      "epoch =  10, loss = 6.8635\n",
      "epoch =  11, loss = 6.8362\n",
      "epoch =  12, loss = 6.8069\n",
      "epoch =  13, loss = 6.7823\n",
      "epoch =  14, loss = 6.7601\n",
      "epoch =  15, loss = 6.7360\n",
      "epoch =  16, loss = 6.7126\n",
      "epoch =  17, loss = 6.6915\n",
      "epoch =  18, loss = 6.6704\n",
      "epoch =  19, loss = 6.6513\n",
      "epoch =  20, loss = 6.6326\n",
      "epoch =  21, loss = 6.6151\n",
      "epoch =  22, loss = 6.5989\n",
      "epoch =  23, loss = 6.5818\n",
      "epoch =  24, loss = 6.5650\n",
      "epoch =  25, loss = 6.5506\n",
      "epoch =  26, loss = 6.5366\n",
      "epoch =  27, loss = 6.5211\n",
      "epoch =  28, loss = 6.5065\n",
      "epoch =  29, loss = 6.4957\n",
      "epoch =  30, loss = 6.4842\n",
      "epoch =  31, loss = 6.4715\n",
      "epoch =  32, loss = 6.4588\n",
      "epoch =  33, loss = 6.4492\n",
      "epoch =  34, loss = 6.4392\n",
      "epoch =  35, loss = 6.4276\n",
      "epoch =  36, loss = 6.4189\n",
      "epoch =  37, loss = 6.4088\n",
      "epoch =  38, loss = 6.3998\n",
      "epoch =  39, loss = 6.3898\n",
      "epoch =  40, loss = 6.3822\n",
      "epoch =  41, loss = 6.3746\n",
      "epoch =  42, loss = 6.3665\n",
      "epoch =  43, loss = 6.3586\n",
      "epoch =  44, loss = 6.3519\n",
      "epoch =  45, loss = 6.3448\n",
      "epoch =  46, loss = 6.3367\n",
      "epoch =  47, loss = 6.3299\n",
      "epoch =  48, loss = 6.3237\n",
      "epoch =  49, loss = 6.3170\n",
      "epoch =  50, loss = 6.3117\n",
      "epoch =  51, loss = 6.3051\n",
      "epoch =  52, loss = 6.2985\n",
      "epoch =  53, loss = 6.2952\n",
      "epoch =  54, loss = 6.2878\n",
      "epoch =  55, loss = 6.2850\n",
      "epoch =  56, loss = 6.2781\n",
      "epoch =  57, loss = 6.2732\n",
      "epoch =  58, loss = 6.2682\n",
      "epoch =  59, loss = 6.2646\n",
      "epoch =  60, loss = 6.2584\n",
      "epoch =  61, loss = 6.2548\n",
      "epoch =  62, loss = 6.2498\n",
      "epoch =  63, loss = 6.2450\n",
      "epoch =  64, loss = 6.2412\n",
      "epoch =  65, loss = 6.2372\n",
      "epoch =  66, loss = 6.2331\n",
      "epoch =  67, loss = 6.2295\n",
      "epoch =  68, loss = 6.2254\n",
      "epoch =  69, loss = 6.2214\n",
      "epoch =  70, loss = 6.2172\n",
      "epoch =  71, loss = 6.2140\n",
      "epoch =  72, loss = 6.2101\n",
      "epoch =  73, loss = 6.2071\n",
      "epoch =  74, loss = 6.2039\n",
      "epoch =  75, loss = 6.2005\n",
      "epoch =  76, loss = 6.1967\n",
      "epoch =  77, loss = 6.1947\n",
      "epoch =  78, loss = 6.1915\n",
      "epoch =  79, loss = 6.1879\n",
      "epoch =  80, loss = 6.1851\n",
      "epoch =  81, loss = 6.1828\n",
      "epoch =  82, loss = 6.1785\n",
      "epoch =  83, loss = 6.1761\n",
      "epoch =  84, loss = 6.1741\n",
      "epoch =  85, loss = 6.1708\n",
      "epoch =  86, loss = 6.1682\n",
      "epoch =  87, loss = 6.1655\n",
      "epoch =  88, loss = 6.1637\n",
      "epoch =  89, loss = 6.1604\n",
      "epoch =  90, loss = 6.1576\n",
      "epoch =  91, loss = 6.1567\n",
      "epoch =  92, loss = 6.1533\n",
      "epoch =  93, loss = 6.1511\n",
      "epoch =  94, loss = 6.1495\n",
      "epoch =  95, loss = 6.1463\n",
      "epoch =  96, loss = 6.1443\n",
      "epoch =  97, loss = 6.1427\n",
      "epoch =  98, loss = 6.1394\n",
      "epoch =  99, loss = 6.1388\n",
      "epoch = 100, loss = 6.1365\n",
      "epoch = 101, loss = 6.1333\n",
      "epoch = 102, loss = 6.1321\n",
      "epoch = 103, loss = 6.1301\n",
      "epoch = 104, loss = 6.1283\n",
      "epoch = 105, loss = 6.1262\n",
      "epoch = 106, loss = 6.1249\n",
      "epoch = 107, loss = 6.1238\n",
      "epoch = 108, loss = 6.1205\n",
      "epoch = 109, loss = 6.1194\n",
      "epoch = 110, loss = 6.1173\n",
      "epoch = 111, loss = 6.1149\n",
      "epoch = 112, loss = 6.1134\n",
      "epoch = 113, loss = 6.1127\n",
      "epoch = 114, loss = 6.1097\n",
      "epoch = 115, loss = 6.1092\n",
      "epoch = 116, loss = 6.1077\n",
      "epoch = 117, loss = 6.1055\n",
      "epoch = 118, loss = 6.1042\n",
      "epoch = 119, loss = 6.1030\n",
      "epoch = 120, loss = 6.1000\n",
      "epoch = 121, loss = 6.1003\n",
      "epoch = 122, loss = 6.0962\n",
      "epoch = 123, loss = 6.0970\n",
      "epoch = 124, loss = 6.0946\n",
      "epoch = 125, loss = 6.0922\n",
      "epoch = 126, loss = 6.0909\n",
      "epoch = 127, loss = 6.0901\n",
      "epoch = 128, loss = 6.0882\n",
      "epoch = 129, loss = 6.0879\n",
      "epoch = 130, loss = 6.0853\n",
      "epoch = 131, loss = 6.0856\n",
      "epoch = 132, loss = 6.0824\n",
      "epoch = 133, loss = 6.0828\n",
      "epoch = 134, loss = 6.0800\n",
      "epoch = 135, loss = 6.0786\n",
      "epoch = 136, loss = 6.0781\n",
      "epoch = 137, loss = 6.0770\n",
      "epoch = 138, loss = 6.0754\n",
      "epoch = 139, loss = 6.0737\n",
      "epoch = 140, loss = 6.0727\n",
      "epoch = 141, loss = 6.0705\n",
      "epoch = 142, loss = 6.0701\n",
      "epoch = 143, loss = 6.0706\n",
      "epoch = 144, loss = 6.0674\n",
      "epoch = 145, loss = 6.0664\n",
      "epoch = 146, loss = 6.0659\n",
      "epoch = 147, loss = 6.0640\n",
      "epoch = 148, loss = 6.0638\n",
      "epoch = 149, loss = 6.0618\n",
      "epoch = 150, loss = 6.0611\n",
      "epoch = 151, loss = 6.0600\n",
      "epoch = 152, loss = 6.0596\n",
      "epoch = 153, loss = 6.0580\n",
      "epoch = 154, loss = 6.0561\n",
      "epoch = 155, loss = 6.0565\n",
      "epoch = 156, loss = 6.0538\n",
      "epoch = 157, loss = 6.0536\n",
      "epoch = 158, loss = 6.0516\n",
      "epoch = 159, loss = 6.0516\n",
      "epoch = 160, loss = 6.0502\n",
      "epoch = 161, loss = 6.0498\n",
      "epoch = 162, loss = 6.0489\n",
      "epoch = 163, loss = 6.0476\n",
      "epoch = 164, loss = 6.0468\n",
      "epoch = 165, loss = 6.0448\n",
      "epoch = 166, loss = 6.0458\n",
      "epoch = 167, loss = 6.0438\n",
      "epoch = 168, loss = 6.0429\n",
      "epoch = 169, loss = 6.0410\n",
      "epoch = 170, loss = 6.0415\n",
      "epoch = 171, loss = 6.0399\n",
      "epoch = 172, loss = 6.0393\n",
      "epoch = 173, loss = 6.0391\n",
      "epoch = 174, loss = 6.0375\n",
      "epoch = 175, loss = 6.0369\n",
      "epoch = 176, loss = 6.0360\n",
      "epoch = 177, loss = 6.0357\n",
      "epoch = 178, loss = 6.0344\n",
      "epoch = 179, loss = 6.0336\n",
      "epoch = 180, loss = 6.0312\n",
      "epoch = 181, loss = 6.0328\n",
      "epoch = 182, loss = 6.0314\n",
      "epoch = 183, loss = 6.0304\n",
      "epoch = 184, loss = 6.0301\n",
      "epoch = 185, loss = 6.0283\n",
      "epoch = 186, loss = 6.0286\n",
      "epoch = 187, loss = 6.0273\n",
      "epoch = 188, loss = 6.0278\n",
      "epoch = 189, loss = 6.0250\n",
      "epoch = 190, loss = 6.0254\n",
      "epoch = 191, loss = 6.0243\n",
      "epoch = 192, loss = 6.0239\n",
      "epoch = 193, loss = 6.0237\n",
      "epoch = 194, loss = 6.0217\n",
      "epoch = 195, loss = 6.0224\n",
      "epoch = 196, loss = 6.0204\n",
      "epoch = 197, loss = 6.0217\n",
      "epoch = 198, loss = 6.0198\n",
      "epoch = 199, loss = 6.0189\n",
      "epoch = 200, loss = 6.0173\n"
     ]
    }
   ],
   "source": [
    "epoch = 200\n",
    "\n",
    "def lr(epoch):\n",
    "    if epoch > 300:\n",
    "        return 1e-4\n",
    "    if epoch > 200:\n",
    "        return 5e-3\n",
    "    return 1e-2\n",
    "\n",
    "def train(p, q, bi, bu, lr_func, rr=0.2, verbose=False):\n",
    "    \n",
    "    for ep in range(epoch):\n",
    "        np.random.shuffle(rating)\n",
    "        loss_sum = 0\n",
    "        lr = lr_func(ep)\n",
    "\n",
    "        for u, i, r in iter_rating(rating):\n",
    "            r = torch.tensor(r)\n",
    "            loss_ui = loss(u, i, torch.tensor(r), rr=rr)\n",
    "            eui = r - predict(u, i)\n",
    "#             print(loss_ui, eui)\n",
    "\n",
    "            sum_y = torch.zeros(k)\n",
    "            for j in range(movies_num):\n",
    "                if N[u][j] == 0: \n",
    "                    # user didn't rate the movie j\n",
    "                    sum_y += y[j]\n",
    "                    c[i][j] += lr * (eui / np.sqrt(number_of_nu[u]) - rr * c[i][j])\n",
    "                else:\n",
    "                    w[i][j] += lr * (eui * (R[u][j] - bu[u] -bi[j]) / np.sqrt(movies_num - number_of_nu[u]) - rr * w[i][j])\n",
    "\n",
    "\n",
    "            q[i] += lr * (eui * (p[u] + sum_y) - rr * q[i]) # TODO\n",
    "            p[u] += lr * (eui * q[i] - rr * p[u])\n",
    "            \n",
    "\n",
    "            bu[u] += lr * (eui - rr * bu[u])\n",
    "            bi[i] += lr * (eui - rr * bi[i])\n",
    "            \n",
    "            loss_sum += loss_ui\n",
    "\n",
    "        if verbose:\n",
    "            print('epoch = %3d, loss = %.4f' % (ep + 1, loss_sum / rating_len))\n",
    "    \n",
    "    return p, q, bi, bu\n",
    "\n",
    "p, q, bi, bu = train(p, q, bi, bu, lr, verbose=True)"
   ]
  },
  {
   "cell_type": "code",
   "execution_count": 163,
   "metadata": {},
   "outputs": [
    {
     "name": "stdout",
     "output_type": "stream",
     "text": [
      "target:  0.40 predict:  0.42\n",
      "target:  0.80 predict:  0.57\n",
      "target: -0.60 predict: -0.43\n",
      "target:  0.60 predict:  0.60\n",
      "target:  0.20 predict:  0.26\n",
      "target: -0.60 predict: -0.16\n",
      "target:  0.60 predict:  0.56\n",
      "target:  0.60 predict:  0.63\n",
      "target:  0.20 predict:  0.30\n",
      "target:  0.40 predict:  0.46\n",
      "target:  1.00 predict:  0.80\n",
      "target:  0.60 predict:  0.66\n",
      "target:  1.00 predict:  0.79\n",
      "target:  0.60 predict:  0.57\n",
      "target:  0.60 predict:  0.62\n",
      "target:  0.00 predict:  0.07\n",
      "target:  0.20 predict:  0.31\n",
      "target:  0.60 predict:  0.40\n",
      "target: -0.20 predict: -0.05\n",
      "target: -0.80 predict: -0.59\n"
     ]
    }
   ],
   "source": [
    "for u, i, r in iter_rating(rating, 20):\n",
    "    print('target: % .2f' % r, 'predict: % .2f' % float(predict(u, i)))"
   ]
  },
  {
   "cell_type": "code",
   "execution_count": 164,
   "metadata": {},
   "outputs": [],
   "source": [
    "# predict user\n",
    "user_id = 20\n",
    "movie_rates = []\n",
    "movie_predict_rates = []\n",
    "\n",
    "for u, i, r in iter_rating(rating):\n",
    "    if u == user_id:\n",
    "        movie_rates.append((i, r))\n",
    "\n",
    "for m in range(movies_num):\n",
    "    movie_predict_rates.append((m, float(predict(user_id, m))))\n",
    "    \n",
    "movie_rates.sort(key=lambda x: x[1], reverse=True)\n",
    "movie_predict_rates.sort(key=lambda x: x[1], reverse=True)"
   ]
  },
  {
   "cell_type": "code",
   "execution_count": 165,
   "metadata": {},
   "outputs": [],
   "source": [
    "import json\n",
    "movie_data = []\n",
    "df = pd.read_csv('the-movies-dataset/movies_metadata.csv')\n",
    "\n",
    "for index, row in df.iloc[:, [3, 8]].iterrows():\n",
    "    movie_data += [{'title': row['original_title'], 'genres': [x['name'] for x in json.loads(row['genres'].replace('\\'', '\"'))]}]\n",
    "# movie_data\n"
   ]
  },
  {
   "cell_type": "code",
   "execution_count": 166,
   "metadata": {},
   "outputs": [
    {
     "name": "stdout",
     "output_type": "stream",
     "text": [
      "User  21\n",
      "from rating, he/she likes:\n",
      "movie_id           rating               movie_title                                movie_genres\n",
      "      33              4.0                      Babe    ['Fantasy', 'Drama', 'Comedy', 'Family']\n",
      "      31              4.0            Twelve Monkeys  ['Science Fiction', 'Thriller', 'Mystery']\n",
      "      46              4.0                     Se7en            ['Crime', 'Mystery', 'Thriller']\n",
      "\n",
      "from rating, he/she might like:\n",
      "movie_id   rating_predict               movie_title                                movie_genres\n",
      "      29             6.12                 摇啊摇，摇到外婆桥                          ['Drama', 'Crime']\n",
      "      81             4.51                   Antonia                         ['Drama', 'Comedy']\n",
      "      26             4.50              Now and Then               ['Comedy', 'Drama', 'Family']\n",
      "      39             4.31  Cry, the Beloved Country                                   ['Drama']\n",
      "      96             4.25                  Shopping ['Action', 'Adventure', 'Drama', 'Science Fiction', 'Thriller']\n"
     ]
    }
   ],
   "source": [
    "print('User ', users[user_id])\n",
    "print('from rating, he/she likes:')\n",
    "print('%s %16s %25s %43s' % ('movie_id', 'rating', 'movie_title', 'movie_genres'))\n",
    "for m, r in movie_rates:\n",
    "    if r > 0.5:\n",
    "        r = r * 2.5 + 2.5\n",
    "        mid = movies[m]-1\n",
    "        print('%8s %16s %25s %43s' % (mid, r, movie_data[mid]['title'], movie_data[mid]['genres']))\n",
    "\n",
    "print('')\n",
    "print('from rating, he/she might like:')\n",
    "print('%s %16s %25s %43s' % ('movie_id', 'rating_predict', 'movie_title', 'movie_genres'))\n",
    "for m, r in movie_predict_rates[:5]:\n",
    "    mid = movies[m]-1\n",
    "    r = r * 2.5 + 2.5\n",
    "    print('%8s %16s %25s %43s' % (mid, '%.2f' % r, movie_data[mid]['title'], movie_data[mid]['genres']))"
   ]
  },
  {
   "cell_type": "code",
   "execution_count": null,
   "metadata": {},
   "outputs": [],
   "source": []
  }
 ],
 "metadata": {
  "kernelspec": {
   "display_name": "Python 3",
   "language": "python",
   "name": "python3"
  },
  "language_info": {
   "codemirror_mode": {
    "name": "ipython",
    "version": 3
   },
   "file_extension": ".py",
   "mimetype": "text/x-python",
   "name": "python",
   "nbconvert_exporter": "python",
   "pygments_lexer": "ipython3",
   "version": "3.7.2"
  }
 },
 "nbformat": 4,
 "nbformat_minor": 2
}
